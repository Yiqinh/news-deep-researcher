{
 "cells": [
  {
   "cell_type": "code",
   "execution_count": null,
   "id": "703bd24b",
   "metadata": {},
   "outputs": [],
   "source": [
    "import json\n",
    "import ast\n",
    "import re"
   ]
  },
  {
   "cell_type": "code",
   "execution_count": null,
   "id": "6a4fc9aa",
   "metadata": {},
   "outputs": [],
   "source": [
    "def read_jsonl(filepath):\n",
    "    data = []\n",
    "    with open(filepath, 'r', encoding='utf-8') as f:\n",
    "        for line in f:\n",
    "            if line.strip():\n",
    "                try:\n",
    "                    json_object = json.loads(line.strip())\n",
    "                    data.append(json_object)\n",
    "                except json.JSONDecodeError as e:\n",
    "                    print(f\"Error decoding JSON on line: {line.strip()}. Error: {e}\")\n",
    "    return data\n",
    "\n",
    "def extract_sources(json_string):\n",
    "    cleaned_string = json_string.strip()\n",
    "    cleaned_string = re.sub(r'^```[a-zA-Z]*\\s*\\n?', '', cleaned_string, flags=re.MULTILINE)\n",
    "    cleaned_string = re.sub(r'\\n?```\\s*$', '', cleaned_string)\n",
    "    start_idx = cleaned_string.find('[')\n",
    "\n",
    "    json_content = cleaned_string[start_idx:].strip()\n",
    "    \n",
    "    # Check if we need to add a closing bracket\n",
    "    # Count opening and closing brackets to see if they're balanced\n",
    "    open_brackets = json_content.count('[')\n",
    "    close_brackets = json_content.count(']')\n",
    "    \n",
    "    if open_brackets > close_brackets:\n",
    "        # Add missing closing brackets\n",
    "        json_content += ']'\n",
    "    \n",
    "    try:\n",
    "        data_list = ast.literal_eval(json_content)\n",
    "    except:\n",
    "        raise Exception\n",
    "    return data_list"
   ]
  },
  {
   "cell_type": "code",
   "execution_count": null,
   "id": "4355602d",
   "metadata": {},
   "outputs": [],
   "source": [
    "data = []\n",
    "path1 = '../data/sources_1.jsonl'\n",
    "file_data1 = read_jsonl(path1)\n",
    "path2 = '../data/sources_2.jsonl'\n",
    "file_data2 = read_jsonl(path2)\n",
    "\n",
    "data.extend(file_data1)\n",
    "data.extend(file_data2)\n",
    "print(len(data))"
   ]
  },
  {
   "cell_type": "code",
   "execution_count": null,
   "id": "fcb42061",
   "metadata": {},
   "outputs": [],
   "source": [
    "articles = []\n",
    "failures = 0\n",
    "for point in data:\n",
    "    news_article = {}\n",
    "    raw_string = point['response']['body']['choices'][0]['message']['content']\n",
    "    try:\n",
    "        sources = extract_sources(raw_string)\n",
    "        news_article['sources'] = sources\n",
    "        news_article['sources_metadata'] = point\n",
    "        articles.append(news_article)\n",
    "    except:\n",
    "        failures += 1\n",
    "\n",
    "print(\"failed extraction: \", failures)\n",
    "print(\"len articles: \", len(articles))"
   ]
  },
  {
   "cell_type": "code",
   "execution_count": null,
   "id": "bfe9b344",
   "metadata": {},
   "outputs": [],
   "source": [
    "with open(\"../data/article_sources.json\", \"w\") as f:\n",
    "    json.dump(articles, f, indent=4)"
   ]
  }
 ],
 "metadata": {
  "kernelspec": {
   "display_name": "base",
   "language": "python",
   "name": "python3"
  },
  "language_info": {
   "codemirror_mode": {
    "name": "ipython",
    "version": 3
   },
   "file_extension": ".py",
   "mimetype": "text/x-python",
   "name": "python",
   "nbconvert_exporter": "python",
   "pygments_lexer": "ipython3",
   "version": "3.11.7"
  }
 },
 "nbformat": 4,
 "nbformat_minor": 5
}
