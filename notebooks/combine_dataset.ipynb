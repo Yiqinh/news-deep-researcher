{
 "cells": [
  {
   "cell_type": "code",
   "execution_count": 2,
   "id": "aa1942b8",
   "metadata": {},
   "outputs": [],
   "source": [
    "import csv\n",
    "import json"
   ]
  },
  {
   "cell_type": "code",
   "execution_count": 57,
   "id": "8bd14b4e",
   "metadata": {},
   "outputs": [],
   "source": [
    "path = '/Users/yiqinhuang/NLP/news-deep-researcher/data/full_text_articles_with_comparisons.csv'\n",
    "with open(path, 'r') as file:\n",
    "    csv_reader = csv.DictReader(file)\n",
    "    initial_articles = list(csv_reader)"
   ]
  },
  {
   "cell_type": "code",
   "execution_count": 58,
   "id": "a77a5ec9",
   "metadata": {},
   "outputs": [
    {
     "name": "stdout",
     "output_type": "stream",
     "text": [
      "dict_keys(['', 'Article URL', 'Press Release URL', 'article_wayback_url', 'press_release_wayback_url', 'press_release_text', 'article_text', 'relevance', 'relevance_description', 'criticality', 'criticality_description'])\n"
     ]
    }
   ],
   "source": [
    "print(initial_articles[0].keys())"
   ]
  },
  {
   "cell_type": "code",
   "execution_count": 59,
   "id": "e1a54f29",
   "metadata": {},
   "outputs": [],
   "source": [
    "queries = '/Users/yiqinhuang/NLP/news-deep-researcher/data/combined_queries.jsonl'\n",
    "with open(queries, 'r', encoding='utf-8') as file:\n",
    "    queries = [json.loads(line) for line in file]"
   ]
  },
  {
   "cell_type": "code",
   "execution_count": 60,
   "id": "128eeb20",
   "metadata": {},
   "outputs": [],
   "source": [
    "id_to_query = {}\n",
    "\n",
    "for q in queries:\n",
    "    custom_id = q['custom_id']\n",
    "    id_number = int(custom_id[-5:])\n",
    "    id_to_query[id_number] = q"
   ]
  },
  {
   "cell_type": "code",
   "execution_count": 61,
   "id": "d717fb86",
   "metadata": {},
   "outputs": [],
   "source": [
    "article_sources = '/Users/yiqinhuang/NLP/news-deep-researcher/data/Article_Sources.json'\n",
    "with open(article_sources, 'r') as file:\n",
    "    articles = json.load(file)"
   ]
  },
  {
   "cell_type": "code",
   "execution_count": null,
   "id": "bb9d3e6c",
   "metadata": {},
   "outputs": [
    {
     "name": "stdout",
     "output_type": "stream",
     "text": [
      "Length:  29599\n"
     ]
    }
   ],
   "source": [
    "full_dataset = []\n",
    "\n",
    "for article in articles:\n",
    "    metadata = article['sources_metadata']\n",
    "    custom_id = metadata['custom_id']\n",
    "    id_number = int(custom_id[-5:])\n",
    "    if id_number in id_to_query:\n",
    "        article['starting_query'] = id_to_query[id_number]\n",
    "        article['article'] = initial_articles[id_number]\n",
    "        full_dataset.append(article)\n",
    "\n",
    "print(\"Length: \", len(full_dataset))\n",
    "    "
   ]
  },
  {
   "cell_type": "code",
   "execution_count": 66,
   "id": "3deeaeee",
   "metadata": {},
   "outputs": [],
   "source": [
    "with open('full_news_dataset_v1.json', 'w') as file:\n",
    "    json.dump(full_dataset, file, indent=4, ensure_ascii=False)"
   ]
  },
  {
   "cell_type": "code",
   "execution_count": 3,
   "id": "3f0db997",
   "metadata": {},
   "outputs": [],
   "source": [
    "path = '/Users/yiqinhuang/NLP/news-deep-researcher/scripts/data_processing/expanded_v1.json'\n",
    "with open(path, 'r') as f:\n",
    "    data = json.load(f)"
   ]
  }
 ],
 "metadata": {
  "kernelspec": {
   "display_name": "deepresearch",
   "language": "python",
   "name": "python3"
  },
  "language_info": {
   "codemirror_mode": {
    "name": "ipython",
    "version": 3
   },
   "file_extension": ".py",
   "mimetype": "text/x-python",
   "name": "python",
   "nbconvert_exporter": "python",
   "pygments_lexer": "ipython3",
   "version": "3.11.13"
  }
 },
 "nbformat": 4,
 "nbformat_minor": 5
}
